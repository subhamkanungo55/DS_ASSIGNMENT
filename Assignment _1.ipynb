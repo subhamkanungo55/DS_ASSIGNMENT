{
 "cells": [
  {
   "cell_type": "raw",
   "metadata": {},
   "source": [
    "1. In the below elements which of them are values or an expression? eg:- values can be\n",
    "integer or string and expressions will be mathematical operators.\n",
    "\n",
    "* - > Expression(Multiplication)\n",
    "\n",
    "'hello' - > values(string)\n",
    "\n",
    "-87.8 - > values(float)\n",
    "\n",
    "- -> Expression(Subtraction)\n",
    "\n",
    "/ -> Expression(Division)\n",
    "\n",
    "+ - > Expression(Addition)\n",
    "\n",
    "6 - > values(Integer)"
   ]
  },
  {
   "cell_type": "raw",
   "metadata": {},
   "source": [
    "2. What is the difference between string and variable?\n",
    " \n",
    "Ans - Variables are temporary storage place those which stores information in form of values. \n",
    "\n",
    "Difference- 1> In variable we can not use space or \"\", but in string we have to use \"\" or ''.\n",
    "\n",
    "2> We can store string in a variable but we can not store variable in a string.\n",
    "\n",
    "3> With the help of variable we can carry all string anywhere inside the code.\n",
    "\n",
    "Example --> my_string = \"My name is Subham\"\n",
    "\n",
    "my_string is the variable and value assigned to it is string"
   ]
  },
  {
   "cell_type": "raw",
   "metadata": {},
   "source": [
    "3. Describe three different data types.\n",
    "\n"
   ]
  },
  {
   "cell_type": "code",
   "execution_count": null,
   "metadata": {},
   "outputs": [],
   "source": []
  }
 ],
 "metadata": {
  "kernelspec": {
   "display_name": "Python 3",
   "language": "python",
   "name": "python3"
  },
  "language_info": {
   "codemirror_mode": {
    "name": "ipython",
    "version": 3
   },
   "file_extension": ".py",
   "mimetype": "text/x-python",
   "name": "python",
   "nbconvert_exporter": "python",
   "pygments_lexer": "ipython3",
   "version": "3.8.3"
  }
 },
 "nbformat": 4,
 "nbformat_minor": 4
}
