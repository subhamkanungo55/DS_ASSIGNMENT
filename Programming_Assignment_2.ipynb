{
 "cells": [
  {
   "cell_type": "raw",
   "metadata": {},
   "source": [
    "Write a Python program to convert kilometers to miles?"
   ]
  },
  {
   "cell_type": "code",
   "execution_count": 3,
   "metadata": {},
   "outputs": [
    {
     "name": "stdout",
     "output_type": "stream",
     "text": [
      "Enter the value in kilometer: 6.7645\n",
      "6.76 kilometers is equal to 4.20 miles\n"
     ]
    }
   ],
   "source": [
    "#input for taking value in kilometer\n",
    "\n",
    "km = float(input(\"Enter the value in kilometer: \"))\n",
    "\n",
    "#conversion factor\n",
    "\n",
    "conv = 0.621\n",
    "\n",
    "#calculate miles\n",
    "\n",
    "miles = km * conv\n",
    "\n",
    "print(\"%0.2f kilometers is equal to %0.2f miles\"%(km,miles))"
   ]
  },
  {
   "cell_type": "raw",
   "metadata": {},
   "source": [
    "Write a Python program to convert Celsius to Fahrenheit?"
   ]
  },
  {
   "cell_type": "code",
   "execution_count": 4,
   "metadata": {},
   "outputs": [
    {
     "name": "stdout",
     "output_type": "stream",
     "text": [
      "Enter the value in celsius: 37.5\n",
      "37.5 celsius is equal to 99.5 farenheit\n"
     ]
    }
   ],
   "source": [
    "#input for taking value in celsius\n",
    "\n",
    "celsius = float(input(\"Enter the value in celsius: \"))\n",
    "\n",
    "#converting to farenheit\n",
    "\n",
    "farenheit = (celsius * 1.8) + 32\n",
    "\n",
    "print(\"%0.1f celsius is equal to %0.1f farenheit\"%(celsius,farenheit))"
   ]
  },
  {
   "cell_type": "raw",
   "metadata": {},
   "source": [
    "Write a Python program to display calendar?"
   ]
  },
  {
   "cell_type": "code",
   "execution_count": 2,
   "metadata": {},
   "outputs": [
    {
     "name": "stdout",
     "output_type": "stream",
     "text": [
      "Collecting calendra\n",
      "  Downloading calendra-7.0.0-py3-none-any.whl (189 kB)\n",
      "Collecting skyfield-data\n",
      "  Downloading skyfield_data-3.0.0-py2.py3-none-any.whl (16.9 MB)\n",
      "Collecting lunardate\n",
      "  Downloading lunardate-0.2.0-py3-none-any.whl (5.6 kB)\n",
      "Requirement already satisfied: pytz in c:\\users\\subham\\anaconda3\\lib\\site-packages (from calendra) (2020.1)\n",
      "Collecting pyCalverter\n",
      "  Downloading pyCalverter-1.6.1.tar.gz (3.5 kB)\n",
      "Requirement already satisfied: python-dateutil in c:\\users\\subham\\anaconda3\\lib\\site-packages (from calendra) (2.8.1)\n",
      "Collecting skyfield\n",
      "  Downloading skyfield-1.39.tar.gz (373 kB)\n",
      "Requirement already satisfied: more-itertools in c:\\users\\subham\\anaconda3\\lib\\site-packages (from calendra) (8.4.0)\n",
      "Collecting pyluach\n",
      "  Downloading pyluach-1.2.1-py3-none-any.whl (14 kB)\n",
      "Requirement already satisfied: six>=1.5 in c:\\users\\subham\\anaconda3\\lib\\site-packages (from python-dateutil->calendra) (1.15.0)\n",
      "Requirement already satisfied: certifi>=2017.4.17 in c:\\users\\subham\\anaconda3\\lib\\site-packages (from skyfield->calendra) (2020.6.20)\n",
      "Collecting jplephem>=2.13\n",
      "  Downloading jplephem-2.15.tar.gz (40 kB)\n",
      "Requirement already satisfied: numpy in c:\\users\\subham\\anaconda3\\lib\\site-packages (from skyfield->calendra) (1.18.5)\n",
      "Collecting sgp4>=2.2\n",
      "  Downloading sgp4-2.18-cp38-cp38-win_amd64.whl (154 kB)\n",
      "Building wheels for collected packages: pyCalverter, skyfield, jplephem\n",
      "  Building wheel for pyCalverter (setup.py): started\n",
      "  Building wheel for pyCalverter (setup.py): finished with status 'done'\n",
      "  Created wheel for pyCalverter: filename=pyCalverter-1.6.1-py3-none-any.whl size=4205 sha256=fc404b44b9c338d11cec85665a17ec6c5024649cdded77990511c09e89285f59\n",
      "  Stored in directory: c:\\users\\subham\\appdata\\local\\pip\\cache\\wheels\\f4\\27\\ed\\5623e00b982af620623c8912481a48ba32e2928134a922649a\n",
      "  Building wheel for skyfield (setup.py): started\n",
      "  Building wheel for skyfield (setup.py): finished with status 'done'\n",
      "  Created wheel for skyfield: filename=skyfield-1.39-py3-none-any.whl size=417570 sha256=9d94f1215e948b49a4ffe067103b4bd24866ae89fe7f7a522c73801515cafd95\n",
      "  Stored in directory: c:\\users\\subham\\appdata\\local\\pip\\cache\\wheels\\88\\e4\\82\\79702c7fd642ef81355df5ad2a355db0a5d42744b42533801b\n",
      "  Building wheel for jplephem (setup.py): started\n",
      "  Building wheel for jplephem (setup.py): finished with status 'done'\n",
      "  Created wheel for jplephem: filename=jplephem-2.15-py3-none-any.whl size=46024 sha256=d7b8e68587f72c4e11038c18ddd74282991e5348d9ff805cc557b12ca3b56393\n",
      "  Stored in directory: c:\\users\\subham\\appdata\\local\\pip\\cache\\wheels\\e8\\73\\f7\\561e2b3f7e90f3b7d0beb8fa3487039076b166f25b61eacdc3\n",
      "Successfully built pyCalverter skyfield jplephem\n",
      "Installing collected packages: skyfield-data, lunardate, pyCalverter, jplephem, sgp4, skyfield, pyluach, calendra\n",
      "Successfully installed calendra-7.0.0 jplephem-2.15 lunardate-0.2.0 pyCalverter-1.6.1 pyluach-1.2.1 sgp4-2.18 skyfield-1.39 skyfield-data-3.0.0\n"
     ]
    }
   ],
   "source": [
    "!pip install calendra"
   ]
  },
  {
   "cell_type": "code",
   "execution_count": null,
   "metadata": {},
   "outputs": [],
   "source": [
    "import calendra\n",
    "\n",
    "# To take month & year from user\n",
    "\n",
    "yy = int(input(\"Enter the year: \"))\n",
    "mm = int(input(\"Enter the month: \"))\n",
    "\n",
    "# Display calender\n",
    "\n",
    "print(calendra.mm( yy , mm ))"
   ]
  },
  {
   "cell_type": "raw",
   "metadata": {},
   "source": [
    "Write a Python program to solve quadratic equation?"
   ]
  },
  {
   "cell_type": "raw",
   "metadata": {},
   "source": [
    "If b*b < 4*a*c, then roots are complex\n",
    "(not real).\n",
    "For example roots of x2 + x + 1, roots are\n",
    "-0.5 + i1.73205 and -0.5 - i1.73205\n",
    "\n",
    "If b*b == 4*a*c, then roots are real \n",
    "and both roots are same.\n",
    "For example, roots of x2 - 2x + 1 are 1 and 1\n",
    "\n",
    "If b*b > 4*a*c, then roots are real \n",
    "and different.\n",
    "For example, roots of x2 - 7x - 12 are 3 and 4"
   ]
  },
  {
   "cell_type": "code",
   "execution_count": 3,
   "metadata": {},
   "outputs": [],
   "source": [
    "import math\n",
    "\n",
    "#Defining function for finding roots\n",
    "\n",
    "def roots(a,b,c):\n",
    "\n",
    "#Calculate discriminant\n",
    "\n",
    "    dis = b*b - 4*a*c\n",
    "    sqrt_val = math.sqrt(abs(dis))\n",
    "    \n",
    "    #checking condition for discriminant\n",
    "    \n",
    "    if dis > 0:\n",
    "        print(\" Real and different roots \")\n",
    "        print((-b + sqrt_val)/(2 * a))\n",
    "        print((-b - sqrt_val)/(2 * a))\n",
    "    elif dis == 0:\n",
    "        print(\" Real and same roots \")\n",
    "        print(-b/(2 * a))\n",
    "    else :\n",
    "        print(\"complex roots\")\n",
    "        print(-b /(2 * a), \"+i\", sqrt_val)\n",
    "        print(-b /(2 * a), \"-i\", sqrt_val)\n",
    "        "
   ]
  },
  {
   "cell_type": "code",
   "execution_count": 12,
   "metadata": {},
   "outputs": [
    {
     "name": "stdout",
     "output_type": "stream",
     "text": [
      " Real and different roots \n",
      "-0.2679491924311228\n",
      "-3.732050807568877\n"
     ]
    }
   ],
   "source": [
    "roots(4,16,4)"
   ]
  },
  {
   "cell_type": "raw",
   "metadata": {},
   "source": [
    "Write a Python program to swap two variables without temp variable?"
   ]
  },
  {
   "cell_type": "code",
   "execution_count": 13,
   "metadata": {},
   "outputs": [
    {
     "name": "stdout",
     "output_type": "stream",
     "text": [
      "Enter value of first variable: 10\n",
      "Enter value of second variable: 5\n",
      "After swapping: \n",
      "Value of First Varibale x is: 5\n",
      "Value of second variable y is: 10\n"
     ]
    }
   ],
   "source": [
    "x=int(input(\"Enter value of first variable: \"))\n",
    "y=int(input(\"Enter value of second variable: \"))\n",
    "x=x+y\n",
    "y=x-y\n",
    "x=x-y\n",
    "print(\"After swapping: \")\n",
    "print(\"Value of First Varibale x is:\",x)\n",
    "print(\"Value of second variable y is:\",y)"
   ]
  },
  {
   "cell_type": "code",
   "execution_count": null,
   "metadata": {},
   "outputs": [],
   "source": []
  }
 ],
 "metadata": {
  "kernelspec": {
   "display_name": "Python 3",
   "language": "python",
   "name": "python3"
  },
  "language_info": {
   "codemirror_mode": {
    "name": "ipython",
    "version": 3
   },
   "file_extension": ".py",
   "mimetype": "text/x-python",
   "name": "python",
   "nbconvert_exporter": "python",
   "pygments_lexer": "ipython3",
   "version": "3.8.3"
  }
 },
 "nbformat": 4,
 "nbformat_minor": 4
}
