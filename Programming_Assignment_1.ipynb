{
 "cells": [
  {
   "cell_type": "markdown",
   "metadata": {},
   "source": [
    "Write a Python program to print \"Hello World\" ?"
   ]
  },
  {
   "cell_type": "code",
   "execution_count": 3,
   "metadata": {},
   "outputs": [
    {
     "name": "stdout",
     "output_type": "stream",
     "text": [
      "Hello world\n"
     ]
    }
   ],
   "source": [
    "print(\"Hello world\")"
   ]
  },
  {
   "cell_type": "raw",
   "metadata": {},
   "source": [
    "Write a Python program to do arithmetical operations addition and division.?"
   ]
  },
  {
   "cell_type": "code",
   "execution_count": 5,
   "metadata": {},
   "outputs": [
    {
     "name": "stdout",
     "output_type": "stream",
     "text": [
      "Enter 1st number10\n",
      "Enter 2nd number8\n",
      "Addition of 2 no is :  18\n",
      "Division of 2 no is :  1.25\n"
     ]
    }
   ],
   "source": [
    "a = int(input(\"Enter 1st number\"))\n",
    "b = int(input(\"Enter 2nd number\"))\n",
    "\n",
    "c = a + b\n",
    "d = a/b\n",
    "\n",
    "print(\"Addition of 2 no is : \",c)\n",
    "print(\"Division of 2 no is : \",d)"
   ]
  },
  {
   "cell_type": "raw",
   "metadata": {},
   "source": [
    "Write a Python program to find the area of a triangle?"
   ]
  },
  {
   "cell_type": "code",
   "execution_count": 12,
   "metadata": {},
   "outputs": [],
   "source": [
    "# ar of triangle = sqrt[s(s-a)(s-b)(s-c)] where a,b,c = sides of triangle, s = semi-perimeter(a+b+c/2)\n",
    "\n",
    "import math\n",
    "\n",
    "def area_of_triangle (a,b,c):\n",
    "\n",
    "    #perimeter\n",
    "    p = a + b + c\n",
    "    \n",
    "    #semi-perimeter\n",
    "    s = p/2\n",
    "    \n",
    "    #calculate area of triangle\n",
    "    Area = math.sqrt((s*(s-a)*(s-b)*(s-c)))\n",
    "    \n",
    "    print(\"The perimeter of the triangle is = %0.2f\" %p)\n",
    "    print(\"The semi-perimeter of the triangle is = %0.2f\" %s)\n",
    "    print(\"The area of the traingle is = %0.2f\" %Area)"
   ]
  },
  {
   "cell_type": "code",
   "execution_count": 13,
   "metadata": {},
   "outputs": [
    {
     "name": "stdout",
     "output_type": "stream",
     "text": [
      "The perimeter of the triangle is = 18.00\n",
      "The semi-perimeter of the triangle is = 9.00\n",
      "The area of the traingle is = 14.70\n"
     ]
    }
   ],
   "source": [
    "area_of_triangle(5,6,7)"
   ]
  },
  {
   "cell_type": "raw",
   "metadata": {},
   "source": [
    "Write a Python program to swap two variables?"
   ]
  },
  {
   "cell_type": "code",
   "execution_count": 17,
   "metadata": {},
   "outputs": [
    {
     "name": "stdout",
     "output_type": "stream",
     "text": [
      "Enter the first variable : 5\n",
      "Enter the second variable : 6\n",
      "First variable before swapping:  5\n",
      "Second variable before swapping:  6\n",
      "First variable after swapping:  6\n",
      "second variable after swapping:  5\n"
     ]
    }
   ],
   "source": [
    "a = int(input(\"Enter the first variable : \"))\n",
    "b = int(input(\"Enter the second variable : \"))\n",
    "\n",
    "print(\"First variable before swapping: \",a)\n",
    "print(\"Second variable before swapping: \",b)\n",
    "\n",
    "temp = a\n",
    "a = b\n",
    "b = temp\n",
    "\n",
    "print(\"First variable after swapping: \",a)\n",
    "print(\"second variable after swapping: \",b)"
   ]
  },
  {
   "cell_type": "raw",
   "metadata": {},
   "source": [
    "Write a Python program to generate a random number?"
   ]
  },
  {
   "cell_type": "code",
   "execution_count": 24,
   "metadata": {},
   "outputs": [
    {
     "data": {
      "text/plain": [
       "27"
      ]
     },
     "execution_count": 24,
     "metadata": {},
     "output_type": "execute_result"
    }
   ],
   "source": [
    "import random\n",
    "\n",
    "random.randint(1,50)"
   ]
  },
  {
   "cell_type": "code",
   "execution_count": null,
   "metadata": {},
   "outputs": [],
   "source": []
  }
 ],
 "metadata": {
  "kernelspec": {
   "display_name": "Python 3",
   "language": "python",
   "name": "python3"
  },
  "language_info": {
   "codemirror_mode": {
    "name": "ipython",
    "version": 3
   },
   "file_extension": ".py",
   "mimetype": "text/x-python",
   "name": "python",
   "nbconvert_exporter": "python",
   "pygments_lexer": "ipython3",
   "version": "3.8.3"
  }
 },
 "nbformat": 4,
 "nbformat_minor": 4
}
